{
    "cells": [
        {
            "cell_type": "markdown",
            "metadata": {},
            "source": [
                "# Exective summary of Work Package 2\n",
                "\n",
                "## Objectives\n",
                "\n",
                "In this WP, you will work on a given training dataset. Your goal is to develop a fault detection model using the classification algorithms learnt in the class, in order to achieve best F1 score.\n",
                "\n",
                "## Tasks\n",
                "\n",
                "- Task 1: Develop a fault detection model using the unsupervised learning algorithms learnt in the class, in order to achieve best F1 score.\n",
                "- Task 2: With the help of the supporting script, develop a cross-validation scheme to test the performance of the developed classification algorithms.\n",
                "- Task 3: Develop a fault detection model using the classification algorithms learnt in the class, in order to achieve best F1 score.\n",
                "\n",
                "## Delierables\n",
                "\n",
                "- A Jupyter notebook reporting the process and results of the above tasks\n"
            ]
        },
        {
            "cell_type": "markdown",
            "metadata": {},
            "source": [
                "# Before starting, please:\n",
                "- Fetch the most up-to-date version of the github repository.\n",
                "- Create a new branch with your name, based on the \"main\" branch and switch to your own branch.\n",
                "- Copy this notebook to the work space of your group, and rename it to TD_WP_2_Your name.ipynb\n",
                "- After finishing this task, push your changes to the github repository of your group."
            ]
        },
        {
            "cell_type": "markdown",
            "metadata": {},
            "source": [
                "# Task 1: Unsupervised learning approaches\n",
                "\n",
                "## Implement the statistical testing approach for fault detection\n",
                "\n",
                "In this exercise, we interpret the statistical testing approach for fault detection. The basic idea of statistical testing approach is that we fit a multi-dimensitional distribution to the observation data under normal working condition. Then, when a new data point arrives, we design a hypothesis test to see whether the new data point is consistent with the distribution. If the new data point is consistent with the distribution, we can conclude that the fault is not due to the faulty component.\n",
                "\n",
                "The benefit of this approach is that, to design the detection algrothim, we do not need failed data. Also, the computational time is short as all we need is just to compute the pdf and compare it to a threshold.\n",
                "\n",
                "In this exercise, you need to:\n",
                "- Fit a multi-dimensitional distribution to the training dataset (all normal samples).\n",
                "- Design a fault detection algorithm based on the fitted distribution to detect faulty components.\n",
                "\n",
                "The following block defines a few functions that you can use."
            ]
        },
        {
            "cell_type": "code",
            "execution_count": 14,
            "metadata": {},
            "outputs": [],
            "source": [
                "import numpy as np\n",
                "import matplotlib.pyplot as plt\n",
                "%matplotlib inline\n",
                "from scipy.stats import multivariate_normal\n",
                "\n",
                "\n",
                "def estimateGaussian(X):\n",
                "    '''Given X, this function estimates the parameter of a multivariate Gaussian distribution.'''\n",
                "    mu = np.mean(X, axis=0)\n",
                "    sigma2 = np.var(X, axis=0)\n",
                "    return mu, sigma2\n",
                "\n",
                "\n",
                "def classify(X, distribution, log_epsilon=-50):\n",
                "    '''Given X, this function classifies each sample in X based on the multivariate Gaussian distribution. \n",
                "       The decision rule is: if the log pdf is less than log_epsilon, we predict 1, as the sample is unlikely to be from the distribution, which represents normal operation.\n",
                "    '''\n",
                "    p = distribution.logpdf(X)\n",
                "    predictions = (p < log_epsilon).astype(int)\n",
                "    \n",
                "    return predictions"
            ]
        },
        {
            "cell_type": "markdown",
            "metadata": {},
            "source": [
                "Let us use the dataset `20240105_164214` as training dataset, as all the samples in this dataset are normal operation. We will use the dataset `20240325_155003` as testing dataset. Let us try to predict the state of motor 1. For this, we first extract the position, temperature and voltage of motor 1 as features (you can change the features if you want). "
            ]
        },
        {
            "cell_type": "code",
            "execution_count": 15,
            "metadata": {},
            "outputs": [],
            "source": [
                "import sys\n",
                "sys.path.insert(0, '/Users/beatriz/Documents/GitHub/Group_3/projects/maintenance_industry_4_2024/supporting_scripts')\n",
                "\n",
                "from utility import read_all_csvs_one_test\n",
                "import pandas as pd\n",
                "\n",
                "# Specify path to the dictionary.\n",
                "base_dictionary = '../../dataset/training_data/'\n",
                "dictionary_name = '20240105_164214'\n",
                "path = base_dictionary + dictionary_name\n",
                "\n",
                "# Read the data.\n",
                "df_data = read_all_csvs_one_test(path, dictionary_name)\n",
                "\n",
                "# Get the features\n",
                "X_train = df_data[['data_motor_1_position', 'data_motor_1_temperature', 'data_motor_1_voltage']]\n",
                "Y_train = df_data['data_motor_1_label']\n",
                "\n",
                "# We do the same to get the test dataset.\n",
                "dictionary_name = '20240325_155003'\n",
                "path = base_dictionary + dictionary_name\n",
                "\n",
                "# Read the data.\n",
                "df_data = read_all_csvs_one_test(path, dictionary_name)\n",
                "\n",
                "# Get the features\n",
                "X_test = df_data[['data_motor_1_position', 'data_motor_1_temperature', 'data_motor_1_voltage']]\n",
                "y_test = df_data['data_motor_1_label']"
            ]
        },
        {
            "cell_type": "markdown",
            "metadata": {},
            "source": [
                "Please design your algorithm below:"
            ]
        },
        {
            "cell_type": "code",
            "execution_count": 16,
            "metadata": {},
            "outputs": [
                {
                    "name": "stdout",
                    "output_type": "stream",
                    "text": [
                        "Accuracy: 0.19422730006013228\n"
                    ]
                }
            ],
            "source": [
                "import numpy as np\n",
                "import matplotlib.pyplot as plt\n",
                "from scipy.stats import multivariate_normal\n",
                "from sklearn.metrics import accuracy_score\n",
                "from utility import read_all_csvs_one_test\n",
                "\n",
                "# Estimates the parameter of a multivariate Gaussian distribution\n",
                "def estimateGaussian(X):\n",
                "    mu = np.mean(X, axis=0)\n",
                "    sigma2 = np.var(X, axis=0)\n",
                "    return mu, sigma2\n",
                "\n",
                "# Classifies each sample in X based on the multivariate Gaussian distribution. \n",
                "def classify(X, distribution, log_epsilon=-50):\n",
                "    p = distribution.logpdf(X)\n",
                "    predictions = (p < log_epsilon).astype(int)\n",
                "    return predictions\n",
                "\n",
                "# # Read the training data.\n",
                "base_dictionary = '../../dataset/training_data/'\n",
                "dictionary_name = '20240105_164214'\n",
                "path = base_dictionary + dictionary_name\n",
                "df_data = read_all_csvs_one_test(path, dictionary_name)\n",
                "X_train = df_data[['data_motor_1_position', 'data_motor_1_temperature', 'data_motor_1_voltage']]\n",
                "\n",
                "# Construct a multivariate Gaussian distribution to represent normal operation\n",
                "mu, sigma2 = estimateGaussian(X_train)\n",
                "distribution = multivariate_normal(mean=mu, cov=np.diag(sigma2))\n",
                "\n",
                "# Read the test data\n",
                "dictionary_name = '20240325_155003'\n",
                "path = base_dictionary + dictionary_name\n",
                "df_data = read_all_csvs_one_test(path, dictionary_name)\n",
                "X_test = df_data[['data_motor_1_position', 'data_motor_1_temperature', 'data_motor_1_voltage']]\n",
                "y_test = df_data['data_motor_1_label']\n",
                "\n",
                "#  redict the labels of the test set X_tes\n",
                "y_pred = classify(X_test, distribution)\n",
                "\n",
                "# Calculate accuracy of the prediction\n",
                "accuracy = accuracy_score(y_test, y_pred)\n",
                "print(\"Accuracy:\", accuracy)"
            ]
        },
        {
            "cell_type": "code",
            "execution_count": 17,
            "metadata": {},
            "outputs": [
                {
                    "name": "stdout",
                    "output_type": "stream",
                    "text": [
                        "Accuracy: 0.19422730006013228\n",
                        "Precision: 0.19422730006013228\n",
                        "Recall: 1.0\n",
                        "F1 Score: 0.3252769385699899\n"
                    ]
                }
            ],
            "source": [
                "import numpy as np\n",
                "import matplotlib.pyplot as plt\n",
                "from scipy.stats import multivariate_normal\n",
                "from sklearn.metrics import accuracy_score, precision_score, recall_score, f1_score\n",
                "from utility import read_all_csvs_one_test\n",
                "\n",
                "# Estimates the parameter of a multivariate Gaussian distribution\n",
                "def estimateGaussian(X):\n",
                "    mu = np.mean(X, axis=0)\n",
                "    sigma2 = np.var(X, axis=0)\n",
                "    return mu, sigma2\n",
                "\n",
                "# Classifies each sample in X based on the multivariate Gaussian distribution. \n",
                "def classify(X, distribution, log_epsilon=-50):\n",
                "    p = distribution.logpdf(X)\n",
                "    predictions = (p < log_epsilon).astype(int)\n",
                "    return predictions\n",
                "\n",
                "# Read the training data.\n",
                "base_dictionary = '../../dataset/training_data/'\n",
                "dictionary_name = '20240105_164214'\n",
                "path = base_dictionary + dictionary_name\n",
                "df_data = read_all_csvs_one_test(path, dictionary_name)\n",
                "X_train = df_data[['data_motor_1_position', 'data_motor_1_temperature', 'data_motor_1_voltage']]\n",
                "\n",
                "# Construct a multivariate Gaussian distribution to represent normal operation\n",
                "mu, sigma2 = estimateGaussian(X_train)\n",
                "distribution = multivariate_normal(mean=mu, cov=np.diag(sigma2))\n",
                "\n",
                "# Read the test data\n",
                "dictionary_name = '20240325_155003'\n",
                "path = base_dictionary + dictionary_name\n",
                "df_data = read_all_csvs_one_test(path, dictionary_name)\n",
                "X_test = df_data[['data_motor_1_position', 'data_motor_1_temperature', 'data_motor_1_voltage']]\n",
                "y_test = df_data['data_motor_1_label']\n",
                "\n",
                "# Predict the labels of the test set X_test\n",
                "y_pred = classify(X_test, distribution)\n",
                "\n",
                "# Calculate accuracy of the prediction\n",
                "accuracy = accuracy_score(y_test, y_pred)\n",
                "print(\"Accuracy:\", accuracy)\n",
                "\n",
                "# Calculate precision, recall, and f1 score\n",
                "precision = precision_score(y_test, y_pred)\n",
                "recall = recall_score(y_test, y_pred)\n",
                "f1 = f1_score(y_test, y_pred)\n",
                "\n",
                "print(\"Precision:\", precision)\n",
                "print(\"Recall:\", recall)\n",
                "print(\"F1 Score:\", f1)"
            ]
        },
        {
            "cell_type": "markdown",
            "metadata": {},
            "source": [
                "**Improving the performance:**\n",
                "\n",
                "After trying a few methods and combinations, removing the outliers  was the method that best improved the performance."
            ]
        },
        {
            "cell_type": "code",
            "execution_count": 18,
            "metadata": {},
            "outputs": [
                {
                    "name": "stdout",
                    "output_type": "stream",
                    "text": [
                        "Accuracy: 0.19422730006013228\n",
                        "Precision: 0.19422730006013228\n",
                        "Recall: 1.0\n",
                        "F1 Score: 0.3252769385699899\n"
                    ]
                }
            ],
            "source": [
                "import numpy as np\n",
                "import pandas as pd\n",
                "import matplotlib.pyplot as plt\n",
                "from scipy.stats import multivariate_normal\n",
                "from sklearn.metrics import accuracy_score, precision_score, recall_score, f1_score\n",
                "from utility import read_all_csvs_one_test\n",
                "from sklearn.preprocessing import StandardScaler\n",
                "import warnings\n",
                "\n",
                "\n",
                "\n",
                "# Estimates the parameter of a multivariate Gaussian distribution\n",
                "def estimateGaussian(X):\n",
                "    mu = np.mean(X, axis=0)\n",
                "    sigma2 = np.var(X, axis=0)\n",
                "    return mu, sigma2\n",
                "\n",
                "# Classifies each sample in X based on the multivariate Gaussian distribution. \n",
                "def classify(X, distribution, log_epsilon=-50):\n",
                "    p = distribution.logpdf(X)\n",
                "    predictions = (p < log_epsilon).astype(int)\n",
                "    return predictions\n",
                "\n",
                "# # Read the training data.\n",
                "base_dictionary = '../../dataset/training_data/'\n",
                "dictionary_name = '20240105_164214'\n",
                "path = base_dictionary + dictionary_name\n",
                "df_data = read_all_csvs_one_test(path, dictionary_name)\n",
                "X_train = df_data[['data_motor_1_position', 'data_motor_1_temperature', 'data_motor_1_voltage']]\n",
                "\n",
                "#Define functionn to remove outliers of the data \n",
                "\n",
                "def remove_outliers(df: pd.DataFrame):\n",
                "\n",
                "    df['data_motor_1_temperature'] = df['data_motor_1_temperature'].where(df['data_motor_1_temperature'] <= 100, np.nan)\n",
                "    df['data_motor_1_temperature'] = df['data_motor_1_temperature'].where(df['data_motor_1_temperature'] >= 0, np.nan)\n",
                "    df['data_motor_1_temperature'] = df['data_motor_1_temperature'].ffill()\n",
                "\n",
                "    df['data_motor_1_voltage'] = df['data_motor_1_voltage'].where(df['data_motor_1_voltage'] >= 5000, np.nan)\n",
                "    df['data_motor_1_voltage'] = df['data_motor_1_voltage'].where(df['data_motor_1_voltage'] <= 9000, np.nan)\n",
                "    df['data_motor_1_voltage'] = df['data_motor_1_voltage'].ffill()\n",
                "\n",
                "    df['data_motor_1_position'] = df['data_motor_1_position'].where(df['data_motor_1_position'] >= 0, np.nan)\n",
                "    df['data_motor_1_position'] = df['data_motor_1_position'].where(df['data_motor_1_position'] <= 1000, np.nan)\n",
                "    df['data_motor_1_position'] = df['data_motor_1_position'].ffill()\n",
                "    warnings.filterwarnings('ignore')\n",
                "    return df\n",
                "\n",
                "\n",
                "#Remove outliers of X_train \n",
                "X_train=remove_outliers(X_train)\n",
                "\n",
                "\n",
                "\n",
                "# Construct a multivariate Gaussian distribution to represent normal operation\n",
                "mu, sigma2 = estimateGaussian(X_train)\n",
                "distribution = multivariate_normal(mean=mu, cov=np.diag(sigma2))\n",
                "\n",
                "# Read the test data\n",
                "dictionary_name = '20240325_155003'\n",
                "path = base_dictionary + dictionary_name\n",
                "df_data = read_all_csvs_one_test(path, dictionary_name)\n",
                "X_test = df_data[['data_motor_1_position', 'data_motor_1_temperature', 'data_motor_1_voltage']]\n",
                "y_test = df_data['data_motor_1_label']\n",
                "\n",
                "#Stardard X_test\n",
                "\n",
                "X_test=remove_outliers(X_test)\n",
                "\n",
                "\n",
                "#  redict the labels of the test set X_tes\n",
                "y_pred = classify(X_test, distribution)\n",
                "\n",
                "# Calculate accuracy of the prediction\n",
                "accuracy = accuracy_score(y_test, y_pred)\n",
                "print(\"Accuracy:\", accuracy)\n",
                "precision = precision_score(y_test, y_pred)\n",
                "recall = recall_score(y_test, y_pred)\n",
                "f1 = f1_score(y_test, y_pred)\n",
                "\n",
                "print(\"Precision:\", precision)\n",
                "print(\"Recall:\", recall)\n",
                "print(\"F1 Score:\", f1)\n"
            ]
        },
        {
            "cell_type": "markdown",
            "metadata": {},
            "source": [
                "**Changing log_epsilon:**\n",
                "\n",
                "* affects the sensitivity of the algorithm\n",
                "    * If log_epsilon is set to a higher value (less negative), it means that the algorithm is more tolerant and considers a broader range of data points as normal. As a result, the algorithm may have a lower false positive rate but might miss some actual faults, leading to a decrease in sensitivity. Meaning the performance will be lower.\n",
                "    * If log_epsilon is set to a lower value (more negative), the algorithm becomes more stringent, classifying fewer data points as normal. This can lead to a higher sensitivity to faults but might also increase the false positive rate, as more normal data points may be misclassified as faults. Meaning the performance will be higher.\n",
                "\n",
                "See example bellow"
            ]
        },
        {
            "cell_type": "code",
            "execution_count": 19,
            "metadata": {},
            "outputs": [
                {
                    "name": "stdout",
                    "output_type": "stream",
                    "text": [
                        "log_epsilon: -2 Accuracy: 0.19422730006013228 precision: 0.19422730006013228 recall 1.0 F1 value 0.3252769385699899\n",
                        "log_epsilon: -20000000 Accuracy: 0.8057726999398677 precision: 0.0 recall 0.0 F1 value 0.0\n"
                    ]
                }
            ],
            "source": [
                "import numpy as np\n",
                "import pandas as pd\n",
                "import matplotlib.pyplot as plt\n",
                "from scipy.stats import multivariate_normal\n",
                "from sklearn.metrics import accuracy_score\n",
                "from utility import read_all_csvs_one_test\n",
                "from sklearn.preprocessing import StandardScaler\n",
                "\n",
                "\n",
                "# Estimates the parameter of a multivariate Gaussian distribution\n",
                "def estimateGaussian(X):\n",
                "    mu = np.mean(X, axis=0)\n",
                "    sigma2 = np.var(X, axis=0)\n",
                "    return mu, sigma2\n",
                "\n",
                "# Classifies each sample in X based on the multivariate Gaussian distribution. \n",
                "def classify(X, distribution, log_epsilon=-50):\n",
                "    p = distribution.logpdf(X)\n",
                "    predictions = (p < log_epsilon).astype(int)\n",
                "    return predictions\n",
                "\n",
                "# # Read the training data.\n",
                "base_dictionary = '../../dataset/training_data/'\n",
                "dictionary_name = '20240105_164214'\n",
                "path = base_dictionary + dictionary_name\n",
                "df_data = read_all_csvs_one_test(path, dictionary_name)\n",
                "X_train = df_data[['data_motor_1_position', 'data_motor_1_temperature', 'data_motor_1_voltage']]\n",
                "\n",
                "#Define functionn to remove outliers of the data \n",
                "\n",
                "def remove_outliers(df: pd.DataFrame):\n",
                "\n",
                "    df['data_motor_1_temperature'] = df['data_motor_1_temperature'].where(df['data_motor_1_temperature'] <= 100, np.nan)\n",
                "    df['data_motor_1_temperature'] = df['data_motor_1_temperature'].where(df['data_motor_1_temperature'] >= 0, np.nan)\n",
                "    df['data_motor_1_temperature'] = df['data_motor_1_temperature'].ffill()\n",
                "\n",
                "    df['data_motor_1_voltage'] = df['data_motor_1_voltage'].where(df['data_motor_1_voltage'] >= 5000, np.nan)\n",
                "    df['data_motor_1_voltage'] = df['data_motor_1_voltage'].where(df['data_motor_1_voltage'] <= 9000, np.nan)\n",
                "    df['data_motor_1_voltage'] = df['data_motor_1_voltage'].ffill()\n",
                "\n",
                "    df['data_motor_1_position'] = df['data_motor_1_position'].where(df['data_motor_1_position'] >= 0, np.nan)\n",
                "    df['data_motor_1_position'] = df['data_motor_1_position'].where(df['data_motor_1_position'] <= 1000, np.nan)\n",
                "    df['data_motor_1_position'] = df['data_motor_1_position'].ffill()\n",
                "    return df\n",
                "\n",
                "\n",
                "#Remove outliers of X_train \n",
                "X_train=remove_outliers(X_train)\n",
                "\n",
                "\n",
                "\n",
                "# Construct a multivariate Gaussian distribution to represent normal operation\n",
                "mu, sigma2 = estimateGaussian(X_train)\n",
                "distribution = multivariate_normal(mean=mu, cov=np.diag(sigma2))\n",
                "\n",
                "# Read the test data\n",
                "dictionary_name = '20240325_155003'\n",
                "path = base_dictionary + dictionary_name\n",
                "df_data = read_all_csvs_one_test(path, dictionary_name)\n",
                "X_test = df_data[['data_motor_1_position', 'data_motor_1_temperature', 'data_motor_1_voltage']]\n",
                "y_test = df_data['data_motor_1_label']\n",
                "\n",
                "#Stardard X_test\n",
                "\n",
                "X_test=remove_outliers(X_test)\n",
                "\n",
                "#  redict the labels of the test set X_tes\n",
                "y_pred = classify(X_test, distribution)\n",
                "\n",
                "log_epsilons = [-2,-20000000]  # Example of log_epsilons\n",
                "\n",
                "for log_epsilon in log_epsilons:\n",
                "    y_pred = classify(X_test, distribution, log_epsilon=log_epsilon)\n",
                "    accuracy = accuracy_score(y_test, y_pred)\n",
                "    precision = precision_score(y_test, y_pred)\n",
                "    recall = recall_score(y_test, y_pred)\n",
                "    f1 = f1_score(y_test, y_pred)\n",
                "\n",
                "    print(\"log_epsilon:\", log_epsilon, \"Accuracy:\", accuracy, \"precision:\", precision, \"recall\",recall,\"F1 value\",f1)"
            ]
        },
        {
            "cell_type": "markdown",
            "metadata": {},
            "source": [
                "**Find the best value to log_epsilon** Applying cross validation - in which we use various values of log_epsilon and evaluate the performance of the model on the validation set and choose the value of log_epsilon that gives the best performance."
            ]
        },
        {
            "cell_type": "markdown",
            "metadata": {},
            "source": [
                "## Local outiler factor (LOF)\n",
                "\n",
                "The local outlier factor (LOF) algorithm computes the local density deviation of a given data point with respect to its neighbors. It considers as outliers the samples that have a substantially lower density than their neighbors. You can easiliy implement LOF in scikit-learn ([tutorial](https://www.datatechnotes.com/2020/04/anomaly-detection-with-local-outlier-factor-in-python.html)).\n",
                "\n",
                "Please implement local outlier factor (LOF) algorithm on the dataset of `20240325_155003`. You can try first to detect the failure of motor 1 using this model. Please calculate the accuracy score of your prediction."
            ]
        },
        {
            "cell_type": "code",
            "execution_count": 20,
            "metadata": {},
            "outputs": [
                {
                    "name": "stdout",
                    "output_type": "stream",
                    "text": [
                        "Accuracy: 0.0\n"
                    ]
                }
            ],
            "source": [
                "from sklearn.neighbors import LocalOutlierFactor\n",
                "from sklearn.datasets import make_blobs\n",
                "from numpy import quantile, where, random\n",
                "import matplotlib.pyplot as plt\n",
                "\n",
                "# # Read the training data.\n",
                "base_dictionary = '../../dataset/training_data/'\n",
                "dictionary_name = '20240325_155003'\n",
                "path = base_dictionary + dictionary_name\n",
                "df_data = read_all_csvs_one_test(path, dictionary_name)\n",
                "X_train = df_data[['data_motor_1_position', 'data_motor_1_temperature', 'data_motor_1_voltage']]\n",
                "y_train = df_data['data_motor_1_label']\n",
                "\n",
                "\n",
                "# Fit the LOF model on the entire dataset\n",
                "lof = LocalOutlierFactor(n_neighbors=20, contamination=0.003)\n",
                "y_pred_train = lof.fit_predict(X_train)\n",
                "\n",
                "# Read the testing data.\n",
                "base_dictionary = '../../dataset/training_data/'\n",
                "dictionary_name = '20240105_164214'\n",
                "path = base_dictionary + dictionary_name\n",
                "df_data = read_all_csvs_one_test(path, dictionary_name)\n",
                "X_test = df_data[['data_motor_1_position', 'data_motor_1_temperature', 'data_motor_1_voltage']]\n",
                "\n",
                "# Predict on the evaluation dataset\n",
                "y_pred_eval = lof.fit_predict(X_test)\n",
                "\n",
                "\n",
                "\n",
                "accuracy = accuracy_score(y_pred_train, y_pred)\n",
                "print(\"Accuracy:\", accuracy)\n",
                "\n"
            ]
        },
        {
            "cell_type": "markdown",
            "metadata": {},
            "source": [
                "# Task 2 Develop a cross validation pipeline to evaluate the performance of the model.\n",
                "\n",
                "The idea of cross validation is to split the data into k subsets and use one of them as the test set and the rest as the training set. The performance of the model is evaluated only on the test dataset, while the model is trained on the training dataset. By doing this, we ensure that the evaluation of the model is independent from the training of the model. Therefore, we can detect if the model is overfitted.\n",
                "\n",
                "## k-fold cross validation\n",
                "\n",
                "Here, we use motor 1 as an example to develop a pipeline for cross validation. Below, you have a script that read the data, extract features and get the labels.\n",
                "\n",
                "1. Use sk-learn to split the data into training and testing sets, using a k-fold cross validation with k=5. (Hint: This is a routine task which can be answered easily by language models like chatgpt. You can try prompt like this: `Generate a code in python to split the data X and y into training and testing sets, using a k-fold cross validation with k=5.`)\n",
                "2. Then, train a basic logistic regression model, without hyper-parameter tuning on the training set, and use the testing set to evaluate the performance of the model (calculate accuracy, precision, recall, and F1 score). \n",
                "3. Finally, train a logistic regression model, but use the entire dataset X and y as training data. Then, use the trained model to predict the labels of the same dataset (X). Compare the results with the previous step, and discuss why we should use cross validation to evaluate the performance of the model."
            ]
        },
        {
            "cell_type": "code",
            "execution_count": 21,
            "metadata": {},
            "outputs": [
                {
                    "ename": "NotADirectoryError",
                    "evalue": "[Errno 20] Not a directory: '../../dataset/training_data/Test conditions.xlsx'",
                    "output_type": "error",
                    "traceback": [
                        "\u001b[0;31m---------------------------------------------------------------------------\u001b[0m",
                        "\u001b[0;31mNotADirectoryError\u001b[0m                        Traceback (most recent call last)",
                        "Cell \u001b[0;32mIn[21], line 11\u001b[0m\n\u001b[1;32m      9\u001b[0m base_dictionary \u001b[38;5;241m=\u001b[39m \u001b[38;5;124m'\u001b[39m\u001b[38;5;124m../../dataset/training_data/\u001b[39m\u001b[38;5;124m'\u001b[39m\n\u001b[1;32m     10\u001b[0m \u001b[38;5;66;03m# Read all the data\u001b[39;00m\n\u001b[0;32m---> 11\u001b[0m df_data \u001b[38;5;241m=\u001b[39m read_all_test_data_from_path(base_dictionary)\n\u001b[1;32m     13\u001b[0m \u001b[38;5;66;03m# Extract the features for motor 1: You should replace the features with the ones you have selected in WP1.\u001b[39;00m\n\u001b[1;32m     14\u001b[0m X \u001b[38;5;241m=\u001b[39m df_data[[\u001b[38;5;124m'\u001b[39m\u001b[38;5;124mdata_motor_1_position\u001b[39m\u001b[38;5;124m'\u001b[39m, \u001b[38;5;124m'\u001b[39m\u001b[38;5;124mdata_motor_1_temperature\u001b[39m\u001b[38;5;124m'\u001b[39m, \u001b[38;5;124m'\u001b[39m\u001b[38;5;124mdata_motor_1_voltage\u001b[39m\u001b[38;5;124m'\u001b[39m]]\n",
                        "File \u001b[0;32m~/Documents/GitHub/Group_3/projects/maintenance_industry_4_2024/ws_group_3/deliverables/utility.py:413\u001b[0m, in \u001b[0;36mread_all_test_data_from_path\u001b[0;34m(base_dictionary, pre_processing, is_plot)\u001b[0m\n\u001b[1;32m    411\u001b[0m \u001b[38;5;28;01mfor\u001b[39;00m tmp_path \u001b[38;5;129;01min\u001b[39;00m path_list:\n\u001b[1;32m    412\u001b[0m     path \u001b[38;5;241m=\u001b[39m base_dictionary \u001b[38;5;241m+\u001b[39m tmp_path\n\u001b[0;32m--> 413\u001b[0m     tmp_df \u001b[38;5;241m=\u001b[39m read_all_csvs_one_test(path, tmp_path, pre_processing)\n\u001b[1;32m    414\u001b[0m     df_data \u001b[38;5;241m=\u001b[39m pd\u001b[38;5;241m.\u001b[39mconcat([df_data, tmp_df])\n\u001b[1;32m    415\u001b[0m     df_data \u001b[38;5;241m=\u001b[39m df_data\u001b[38;5;241m.\u001b[39mreset_index(drop\u001b[38;5;241m=\u001b[39m\u001b[38;5;28;01mTrue\u001b[39;00m)\n",
                        "File \u001b[0;32m~/Documents/GitHub/Group_3/projects/maintenance_industry_4_2024/ws_group_3/deliverables/utility.py:470\u001b[0m, in \u001b[0;36mread_all_csvs_one_test\u001b[0;34m(folder_path, test_id, pre_processing)\u001b[0m\n\u001b[1;32m    457\u001b[0m \u001b[38;5;250m\u001b[39m\u001b[38;5;124;03m''' ## Description\u001b[39;00m\n\u001b[1;32m    458\u001b[0m \u001b[38;5;124;03mCombine the six CSV files (each for a motor) in a folder into a single DataFrame. The test condition in the input will be recorded as a column in the combined dataframe.\u001b[39;00m\n\u001b[1;32m    459\u001b[0m \u001b[38;5;124;03m\u001b[39;00m\n\u001b[0;32m   (...)\u001b[0m\n\u001b[1;32m    466\u001b[0m \u001b[38;5;124;03m- combined_df: A DataFrame containing all the data from the CSV files.    \u001b[39;00m\n\u001b[1;32m    467\u001b[0m \u001b[38;5;124;03m'''\u001b[39;00m\n\u001b[1;32m    469\u001b[0m \u001b[38;5;66;03m# Get a list of all CSV files in the folder\u001b[39;00m\n\u001b[0;32m--> 470\u001b[0m csv_files \u001b[38;5;241m=\u001b[39m [file \u001b[38;5;28;01mfor\u001b[39;00m file \u001b[38;5;129;01min\u001b[39;00m os\u001b[38;5;241m.\u001b[39mlistdir(folder_path) \u001b[38;5;28;01mif\u001b[39;00m file\u001b[38;5;241m.\u001b[39mendswith(\u001b[38;5;124m'\u001b[39m\u001b[38;5;124m.csv\u001b[39m\u001b[38;5;124m'\u001b[39m)]\n\u001b[1;32m    472\u001b[0m \u001b[38;5;66;03m# Create an empty DataFrame to store the combined data\u001b[39;00m\n\u001b[1;32m    473\u001b[0m combined_df \u001b[38;5;241m=\u001b[39m pd\u001b[38;5;241m.\u001b[39mDataFrame()\n",
                        "\u001b[0;31mNotADirectoryError\u001b[0m: [Errno 20] Not a directory: '../../dataset/training_data/Test conditions.xlsx'"
                    ]
                }
            ],
            "source": [
                "import sys\n",
                "sys.path.insert(0, 'C:/Users/Zhiguo/OneDrive - CentraleSupelec/Code/Python/digital_twin_robot/projects/maintenance_industry_4_2024/supporting_scripts/WP_1')\n",
                "\n",
                "from utility import read_all_test_data_from_path\n",
                "import pandas as pd\n",
                "\n",
                "# Specify path to the dictionary.\n",
                "# Define the path to the folder 'collected_data'\n",
                "base_dictionary = '../../dataset/training_data/'\n",
                "# Read all the data\n",
                "df_data = read_all_test_data_from_path(base_dictionary)\n",
                "\n",
                "# Extract the features for motor 1: You should replace the features with the ones you have selected in WP1.\n",
                "X = df_data[['data_motor_1_position', 'data_motor_1_temperature', 'data_motor_1_voltage']]\n",
                "# Get the label\n",
                "y = df_data['data_motor_1_label']"
            ]
        },
        {
            "cell_type": "code",
            "execution_count": null,
            "metadata": {},
            "outputs": [],
            "source": [
                "from utility import read_all_test_data_from_path\n",
                "import numpy as np\n",
                "import pandas as pd\n",
                "from sklearn.preprocessing import StandardScaler\n",
                "from sklearn.linear_model import LogisticRegression\n",
                "from sklearn.pipeline import Pipeline\n",
                "from sklearn.model_selection import GridSearchCV\n",
                "import warnings\n",
                "%matplotlib inline\n",
                "\n",
                "\n",
                "# Subfunction for data preprocessing.\n",
                "def remove_outliers(df: pd.DataFrame):\n",
                "    ''' # Description\n",
                "    Remove outliers from the dataframe based on defined valid ranges. \n",
                "    Define a valid range of temperature and voltage. \n",
                "    Use ffil function to replace the invalid measurement with the previous value.\n",
                "    '''\n",
                "    df['temperature'] = df['temperature'].where(df['temperature'] <= 100, np.nan)\n",
                "    df['temperature'] = df['temperature'].where(df['temperature'] >= 0, np.nan)\n",
                "    df['temperature'] = df['temperature'].ffill()\n",
                "\n",
                "    df['voltage'] = df['voltage'].where(df['voltage'] >= 6000, np.nan)\n",
                "    df['voltage'] = df['voltage'].where(df['voltage'] <= 9000, np.nan)\n",
                "    df['voltage'] = df['voltage'].ffill()\n",
                "\n",
                "    df['position'] = df['position'].where(df['position'] >= 0, np.nan)\n",
                "    df['position'] = df['position'].where(df['position'] <= 1000, np.nan)\n",
                "    df['position'] = df['position'].ffill()\n",
                "\n",
                "\n",
                "# Ignore warnings.\n",
                "warnings.filterwarnings('ignore')\n",
                "\n",
                "# Define the classification model.\n",
                "# Define the steps of the pipeline\n",
                "steps = [\n",
                "    ('standardizer', StandardScaler()),  # Step 1: StandardScaler\n",
                "    ('mdl', LogisticRegression(class_weight='balanced'))    # Step 2: Linear Regression\n",
                "]\n",
                "\n",
                "# Create the pipeline\n",
                "pipeline = Pipeline(steps)\n",
                "\n",
                "# Define hyperparameters to search\n",
                "param_grid = {\n",
                "    'mdl__C': [0.001, 0.01, 0.1, 1, 10, 100]  # Inverse of regularization strength\n",
                "}\n",
                "\n",
                "# Initialize GridSearchCV\n",
                "grid_search = GridSearchCV(estimator=pipeline, param_grid=param_grid, scoring='f1', cv=5)\n",
                "\n",
                "# Read all the dataset.\n",
                "base_dictionary = '../../dataset/training_data/'\n",
                "df_data = read_all_test_data_from_path(base_dictionary, remove_outliers, is_plot=False)"
            ]
        },
        {
            "cell_type": "code",
            "execution_count": null,
            "metadata": {},
            "outputs": [
                {
                    "name": "stdout",
                    "output_type": "stream",
                    "text": [
                        "Model for motor 1:\n",
                        "\n",
                        " New run:\n",
                        "\n",
                        "training performance, accuracy is: 0.9875478927203065\n",
                        "training performance, precision is: 1.0\n",
                        "training performance, recall: 0.7719298245614035\n",
                        "training performance, F1: 0.8712871287128713\n",
                        "\n",
                        "\n",
                        "\n",
                        " New run:\n",
                        "\n",
                        "testing performance, accuracy is: 0.6232711966325917\n",
                        "testing performance, precision is: 0.2472939217318901\n",
                        "testing performance, recall: 0.45975232198142413\n",
                        "testing performance, F1: 0.32160259880887926\n",
                        "\n",
                        "\n"
                    ]
                },
                {
                    "data": {
                        "image/png": "[encoded data removed]",
                        "text/plain": [
                            "<Figure size 1152x864 with 4 Axes>"
                        ]
                    },
                    "metadata": {
                        "needs_background": "light"
                    },
                    "output_type": "display_data"
                },
                {
                    "name": "stdout",
                    "output_type": "stream",
                    "text": [
                        "\n",
                        " New run:\n",
                        "\n",
                        "training performance, accuracy is: 0.9750450992182802\n",
                        "training performance, precision is: 0.8861454046639232\n",
                        "training performance, recall: 1.0\n",
                        "training performance, F1: 0.9396363636363636\n",
                        "\n",
                        "\n",
                        "\n",
                        " New run:\n",
                        "\n",
                        "testing performance, accuracy is: 0.05459770114942529\n",
                        "testing performance, precision is: 0.05459770114942529\n",
                        "testing performance, recall: 1.0\n",
                        "testing performance, F1: 0.10354223433242508\n",
                        "\n",
                        "\n"
                    ]
                },
                {
                    "data": {
                        "image/png": "[encoded data removed]",
                        "text/plain": [
                            "<Figure size 1152x864 with 4 Axes>"
                        ]
                    },
                    "metadata": {
                        "needs_background": "light"
                    },
                    "output_type": "display_data"
                },
                {
                    "name": "stdout",
                    "output_type": "stream",
                    "text": [
                        "   Accuracy  Precision    Recall  F1 score\n",
                        "0  0.623271   0.247294  0.459752  0.321603\n",
                        "1  0.054598   0.054598  1.000000  0.103542\n",
                        "\n",
                        "\n",
                        "Mean performance metric and standard error:\n",
                        "Accuracy: 0.3389 +- 0.4021\n",
                        "Precision: 0.1509 +- 0.1363\n",
                        "Recall: 0.7299 +- 0.3820\n",
                        "F1 score: 0.2126 +- 0.1542\n",
                        "\n",
                        "\n"
                    ]
                }
            ],
            "source": [
                "from utility import run_cv_one_motor\n",
                "from sklearn.model_selection import GridSearchCV\n",
                "\n",
                "# Specify the test conditions you would like to include in the test.\n",
                "df_data_experiment = df_data[df_data['test_condition'].isin(['20240325_155003','20240426_140055'])]\n",
                "# We want a five-fold cross validation.\n",
                "n_cv = 2\n",
                "# Define the features.\n",
                "feature_list_all = ['time', 'data_motor_1_position', 'data_motor_1_temperature', 'data_motor_1_voltage',\n",
                "                    'data_motor_2_position', 'data_motor_2_temperature', 'data_motor_2_voltage',\n",
                "                    'data_motor_3_position', 'data_motor_3_temperature', 'data_motor_3_voltage',\n",
                "                    'data_motor_4_position', 'data_motor_4_temperature', 'data_motor_4_voltage',\n",
                "                    'data_motor_5_position', 'data_motor_5_temperature', 'data_motor_5_voltage',\n",
                "                    'data_motor_6_position', 'data_motor_6_temperature', 'data_motor_6_voltage']\n",
                "\n",
                "all_result = run_cv_one_motor(motor_idx=1, df_data=df_data_experiment, mdl=grid_search, feature_list=feature_list_all, n_fold=n_cv)"
            ]
        },
        {
            "cell_type": "code",
            "execution_count": null,
            "metadata": {},
            "outputs": [
                {
                    "name": "stdout",
                    "output_type": "stream",
                    "text": [
                        "\n",
                        "Average Accuracy: 0.6\n",
                        "Average Precision: 0.4\n",
                        "Average Recall: 0.6\n",
                        "Average F1 Score: 0.4666666666666666\n",
                        "\n",
                        "Performance on the entire dataset:\n",
                        "Accuracy: 0.6\n",
                        "Precision: 0.6\n",
                        "Recall: 0.6\n",
                        "F1 Score: 0.6\n"
                    ]
                }
            ],
            "source": [
                "# Average performance metrics across all folds\n",
                "avg_accuracy = np.mean(accuracy_list)\n",
                "avg_precision = np.mean(precision_list)\n",
                "avg_recall = np.mean(recall_list)\n",
                "avg_f1 = np.mean(f1_list)\n",
                "\n",
                "print(f\"\\nAverage Accuracy: {avg_accuracy}\")\n",
                "print(f\"Average Precision: {avg_precision}\")\n",
                "print(f\"Average Recall: {avg_recall}\")\n",
                "print(f\"Average F1 Score: {avg_f1}\")\n",
                "\n",
                "# Train a logistic regression model on the entire dataset\n",
                "model_full = LogisticRegression()\n",
                "model_full.fit(X, y)\n",
                "\n",
                "# Predict on the entire dataset\n",
                "y_pred_full = model_full.predict(X)\n",
                "\n",
                "# Evaluate performance on the entire dataset\n",
                "accuracy_full = accuracy_score(y, y_pred_full)\n",
                "precision_full = precision_score(y, y_pred_full)\n",
                "recall_full = recall_score(y, y_pred_full)\n",
                "f1_full = f1_score(y, y_pred_full)\n",
                "\n",
                "print(\"\\nPerformance on the entire dataset:\")\n",
                "print(f\"Accuracy: {accuracy_full}\")\n",
                "print(f\"Precision: {precision_full}\")\n",
                "print(f\"Recall: {recall_full}\")\n",
                "print(f\"F1 Score: {f1_full}\")"
            ]
        },
        {
            "cell_type": "markdown",
            "metadata": {},
            "source": [
                "Write your discussions here:\n"
            ]
        },
        {
            "cell_type": "markdown",
            "metadata": {},
            "source": [
                "# Task 3: Develop classification-based fault detection models\n",
                "\n",
                "In this task, you are supposed to experiment different classification-based fault detection models to get best F1 score. Please use the 5-fold cross-validation to calculate the best F1 score. You are free to try different models, whether they are discussed in the class or not. To simply your work, you can use the models existed in [scikit-learn](https://scikit-learn.org/stable/supervised_learning.html).\n",
                "\n",
                "Please report all the models you tried, how to you tune their hyperparameters, and the corresponding F1 score. Please note that if you would like to tune the hyperparameter, you can use the `GridSearchCv` function in scikit-learn, but you should use it only on the training dataset."
            ]
        },
        {
            "cell_type": "markdown",
            "metadata": {},
            "source": [
                "## Logistic regression"
            ]
        },
        {
            "cell_type": "code",
            "execution_count": null,
            "metadata": {},
            "outputs": [
                {
                    "name": "stdout",
                    "output_type": "stream",
                    "text": [
                        "Evaluating SVM...\n",
                        "Mean Accuracy: 0.935808680227993\n",
                        "Mean Precision: 0.8395599499277961\n",
                        "Mean Recall: 0.8310270202219545\n",
                        "Mean F1 Score: 0.8335347801044997\n",
                        "Evaluating Random Forest...\n",
                        "Mean Accuracy: 0.9634709614004959\n",
                        "Mean Precision: 0.9097190888305222\n",
                        "Mean Recall: 0.9001575859762372\n",
                        "Mean F1 Score: 0.906254630245973\n",
                        "Evaluating Logistic Regression...\n",
                        "Mean Accuracy: 0.8740233754935799\n",
                        "Mean Precision: 0.8914163456554848\n",
                        "Mean Recall: 0.39957216799017975\n",
                        "Mean F1 Score: 0.5504001602634687\n",
                        "\n",
                        "The best model is:\n",
                        "Model        Random Forest\n",
                        "Accuracy          0.963471\n",
                        "Precision         0.909719\n",
                        "Recall            0.900158\n",
                        "F1 Score          0.906255\n",
                        "Name: 1, dtype: object\n"
                    ]
                }
            ],
            "source": [
                "from sklearn.model_selection import cross_val_score, KFold\n",
                "from sklearn.metrics import accuracy_score, precision_score, recall_score, f1_score\n",
                "from sklearn.svm import SVC\n",
                "from sklearn.ensemble import RandomForestClassifier\n",
                "from sklearn.linear_model import LogisticRegression\n",
                "\n",
                "# Define models\n",
                "models = {\n",
                "    \"SVM\": SVC(),\n",
                "    \"Random Forest\": RandomForestClassifier(),\n",
                "    \"Logistic Regression\": LogisticRegression()\n",
                "}\n",
                "\n",
                "# Define k-fold cross-validation\n",
                "kfold = KFold(n_splits=5, shuffle=True, random_state=42)\n",
                "\n",
                "# Initialize dictionary to store mean scores\n",
                "mean_scores = {\"Model\": [], \"Accuracy\": [], \"Precision\": [], \"Recall\": [], \"F1 Score\": []}\n",
                "\n",
                "# Iterate over models\n",
                "for name, model in models.items():\n",
                "    print(f\"Evaluating {name}...\")\n",
                "    \n",
                "    # Perform cross-validation\n",
                "    accuracy_scores = cross_val_score(model, X_test, y_test, cv=kfold, scoring='accuracy')\n",
                "    precision_scores = cross_val_score(model, X_test, y_test, cv=kfold, scoring='precision')\n",
                "    recall_scores = cross_val_score(model, X_test, y_test, cv=kfold, scoring='recall')\n",
                "    f1_scores = cross_val_score(model, X_test, y_test, cv=kfold, scoring='f1')\n",
                "    \n",
                "    # Calculate mean scores\n",
                "    mean_accuracy = accuracy_scores.mean()\n",
                "    mean_precision = precision_scores.mean()\n",
                "    mean_recall = recall_scores.mean()\n",
                "    mean_f1 = f1_scores.mean()\n",
                "    \n",
                "    # Print and store mean scores\n",
                "    print(f\"Mean Accuracy: {mean_accuracy}\")\n",
                "    print(f\"Mean Precision: {mean_precision}\")\n",
                "    print(f\"Mean Recall: {mean_recall}\")\n",
                "    print(f\"Mean F1 Score: {mean_f1}\")\n",
                "    \n",
                "    mean_scores[\"Model\"].append(name)\n",
                "    mean_scores[\"Accuracy\"].append(mean_accuracy)\n",
                "    mean_scores[\"Precision\"].append(mean_precision)\n",
                "    mean_scores[\"Recall\"].append(mean_recall)\n",
                "    mean_scores[\"F1 Score\"].append(mean_f1)\n",
                "\n",
                "# Convert mean_scores to DataFrame\n",
                "mean_scores_df = pd.DataFrame(mean_scores)\n",
                "\n",
                "# Find best model\n",
                "best_model = mean_scores_df.loc[mean_scores_df['F1 Score'].idxmax()]\n",
                "\n",
                "print(\"\\nThe best model is:\")\n",
                "print(best_model)\n"
            ]
        },
        {
            "cell_type": "markdown",
            "metadata": {},
            "source": [
                "**Results**\n",
                "\n",
                "The best F1 scores are that from random forest model, with an F1 score of 0.902. The models tested are SVM, Random Forest and Logistic Regression. As these are done on the testing dataset, their hyperparameters are not tuned."
            ]
        },
        {
            "cell_type": "markdown",
            "metadata": {},
            "source": [
                "## Summary of the results\n",
                "\n",
                "Please add a table in the end, summarying the results from all the models (including the unsupervised learning models). Please write a few texts to explain what is the best model you got, its performance, and how could you further improve it.\n",
                "\n",
                "| Model   | Accuracy | Precision | Recall | F1   |\n",
                "|---------|----------|-----------|--------|------|\n",
                "| Model 1 |   19,4%  |   19,4%   |  100 % | 32,5%|\n",
                "| Model 2 |    60 %  |    40 %   |  60 %  | 46,6%  |\n",
                "| Model 3 |   96,3%  |   90,9%   |  90,0X% |90,3%\n",
                "\n"
            ]
        },
        {
            "cell_type": "markdown",
            "metadata": {},
            "source": [
                "\n",
                "In conclusion, Model 3 emerges as the top performer among the evaluated models, boasting an accuracy of 96.3%, precision of 90.9%, recall of 90.0%, and an F1 score of 90.3%. \n",
                "These results underscore its efficacy in classifying motor states effectively. To further enhance its performance, future efforts could focus on refining feature engineering, hyperparameter tuning and leveraging anomaly detection techniques. \n",
                "\n",
                "\n",
                "In comparison, Model 1 demonstrates a stark trade-off between precision and recall, achieving a recall of 100% but at the cost of low precision and overall accuracy. Meanwhile, Model 2 presents a balanced performance with moderate accuracy and F1 score, suggesting a reasonable capability in classifying motor states. However, it falls short in precision, indicating potential room for improvement in correctly identifying positive instances."
            ]
        },
        {
            "cell_type": "markdown",
            "metadata": {},
            "source": [
                "\n"
            ]
        }
    ],
    "metadata": {
        "kernelspec": {
            "display_name": "Python 3",
            "language": "python",
            "name": "python3"
        },
        "language_info": {
            "codemirror_mode": {
                "name": "ipython",
                "version": 3
            },
            "file_extension": ".py",
            "mimetype": "text/x-python",
            "name": "python",
            "nbconvert_exporter": "python",
            "pygments_lexer": "ipython3",
            "version": "3.11.7"
        }
    },
    "nbformat": 4,
    "nbformat_minor": 2
}
